{
 "cells": [
  {
   "cell_type": "code",
   "execution_count": null,
   "id": "366ae891-25da-4616-852b-93a0a5712906",
   "metadata": {},
   "outputs": [],
   "source": [
    "name = \"Ahmed Mustafa Saeed\"\n",
    "CNIC = \"3740509289073\"\n",
    "gmail = \"silverulhaq@gmail.com\""
   ]
  },
  {
   "cell_type": "code",
   "execution_count": 4,
   "id": "f27503fe-b713-4ebb-a18e-788ad7bbe685",
   "metadata": {},
   "outputs": [],
   "source": [
    "from selenium import webdriver\n",
    "# Launch a browser\n",
    "driver = webdriver.Chrome()"
   ]
  },
  {
   "cell_type": "code",
   "execution_count": 7,
   "id": "9501d523-111b-4672-a4c4-66632780129d",
   "metadata": {},
   "outputs": [],
   "source": [
    "# Open the admissions website\n",
    "driver.get(\"https://pg.lcwu.edu.pk/ms24/signup.php\")\n",
    "\n",
    "name_field = driver.find_element(\"id\", \"student_name\")\n",
    "name_field.send_keys(name) \n",
    "email_field = driver.find_element(\"id\", \"in_eml\")\n",
    "email_field.send_keys(gmail) \n",
    "cnic_field = driver.find_element(\"id\", \"in_mob\")\n",
    "cnic_field.send_keys(CNIC) \n",
    "sign_up_button = driver.find_element(\"id\", \"in_sub\")\n",
    "sign_up_button.click()\n",
    "\n"
   ]
  },
  {
   "cell_type": "code",
   "execution_count": null,
   "id": "0a7414f0-bb30-40cb-8e2e-1c1b989c7148",
   "metadata": {},
   "outputs": [],
   "source": []
  },
  {
   "cell_type": "code",
   "execution_count": null,
   "id": "86001b0b-45a7-453f-b542-fdcee061b44f",
   "metadata": {},
   "outputs": [],
   "source": []
  }
 ],
 "metadata": {
  "kernelspec": {
   "display_name": "Python 3 (ipykernel)",
   "language": "python",
   "name": "python3"
  },
  "language_info": {
   "codemirror_mode": {
    "name": "ipython",
    "version": 3
   },
   "file_extension": ".py",
   "mimetype": "text/x-python",
   "name": "python",
   "nbconvert_exporter": "python",
   "pygments_lexer": "ipython3",
   "version": "3.11.8"
  }
 },
 "nbformat": 4,
 "nbformat_minor": 5
}
